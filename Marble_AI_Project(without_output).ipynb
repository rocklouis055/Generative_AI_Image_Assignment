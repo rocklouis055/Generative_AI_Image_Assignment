{
  "cells": [
    {
      "cell_type": "code",
      "source": [
        "import requests\n",
        "\n",
        "def download_files_from_github(files):\n",
        "    base_url = f\"https://raw.githubusercontent.com/rocklouis055/Generative_AI_Image_Assignment/main/input/\"\n",
        "    for file_name in files:\n",
        "        url = base_url + file_name\n",
        "        response = requests.get(url)\n",
        "        if response.status_code == 200:\n",
        "            with open(file_name, 'wb') as file:\n",
        "                file.write(response.content)\n",
        "            print(f\"Downloaded: {file_name}\")\n",
        "        else:\n",
        "            print(f\"Failed to download: {file_name}\")\n",
        "\n",
        "download_files_from_github([\"product1.jpg\",\"product1_mask.jpg\",\"product2.jpg\",\"product2_mask.jpg\",\"product3.jpg\",\"product3_mask.jpg\",\"product4.jpg\",\"product4_mask.jpg\",\"product5.jpg\",\"product5_mask.jpg\",])\n"
      ],
      "metadata": {
        "id": "dTLdqcUk8Kr7"
      },
      "execution_count": null,
      "outputs": []
    },
    {
      "cell_type": "code",
      "source": [
        "!pip install transformers==4.38.2 diffusers"
      ],
      "metadata": {
        "id": "pOu330SOjk8d"
      },
      "execution_count": null,
      "outputs": []
    },
    {
      "cell_type": "code",
      "source": [
        "!pip install accelerate\n",
        "!pip install xformers"
      ],
      "metadata": {
        "id": "p1u6cBnsO_e8"
      },
      "execution_count": null,
      "outputs": []
    },
    {
      "cell_type": "code",
      "source": [
        "import requests\n",
        "from io import BytesIO\n",
        "from PIL import Image\n",
        "def download_image(url):\n",
        "    response = requests.get(url)\n",
        "    return Image.open(BytesIO(response.content)).convert(\"RGB\")\n",
        "\n",
        "def load_image(image_path):\n",
        "  try:\n",
        "      image = Image.open(image_path).convert(\"RGB\")\n",
        "      return image\n",
        "  except FileNotFoundError:\n",
        "      print(f\"Error: Image file not found at {image_path}.\")\n",
        "      return None"
      ],
      "metadata": {
        "id": "n_OBIZyzO4Ud"
      },
      "execution_count": null,
      "outputs": []
    },
    {
      "cell_type": "code",
      "source": [
        "import torch\n",
        "from diffusers import AutoPipelineForInpainting\n",
        "from diffusers.utils import load_image, make_image_grid\n",
        "pipeline = AutoPipelineForInpainting.from_pretrained(\n",
        "    \"diffusers/stable-diffusion-xl-1.0-inpainting-0.1\", torch_dtype=torch.float16, variant=\"fp16\"\n",
        ")\n",
        "pipeline.enable_model_cpu_offload()\n",
        "pipeline.enable_xformers_memory_efficient_attention()"
      ],
      "metadata": {
        "id": "E0JToxb7ktUN"
      },
      "execution_count": null,
      "outputs": []
    },
    {
      "cell_type": "code",
      "source": [
        "pipeline.enable_xformers_memory_efficient_attention()\n",
        "\n",
        "\n",
        "init_image = load_image(\"/content/product1.jpg\").resize((512, 512))\n",
        "mask_image = load_image(\"/content/product1_mask.jpg\").resize((512, 512))\n",
        "\n",
        "generator = torch.Generator(\"cuda\").manual_seed(92)\n",
        "prompt = \"Highly detailed shaving soap on weathered dock overlooking a tropical beach with clear water, white sand, proper lighting, reflections, and shadows.\"\n",
        "image = pipeline(prompt=prompt, image=init_image, mask_image=mask_image,strength=1,high_noise_frac=0.8,guidance_scale=15,num_inference_steps=100,generator=generator).images[0]\n",
        "# make_image_grid([init_image, mask_image, image], rows=1, cols=3)\n",
        "display(image)\n",
        "image.save(\"product1_8.png\")"
      ],
      "metadata": {
        "id": "o2P-Fg39DPW2"
      },
      "execution_count": null,
      "outputs": []
    },
    {
      "cell_type": "code",
      "source": [
        "l=[\"Vintage barber shop shelf showcasing a handcrafted shaving soap bar, sunlight streams through a window highlighting its rich lather and natural ingredients, with antique shaving tools arranged nearby.\",\n",
        "   \"Close-up shot of a shaving brush swirling atop a luxurious shaving soap puck, creating a creamy lather, with steam rising and a backdrop of a rugged mountain peak at sunrise.\",\n",
        "   \"A bar of shaving soap sits atop on a wood barrel, sunlight filters through the clear water casting a shimmer on the soap's surface.\",\n",
        "   \"Highly detailed shaving soap on weathered dock overlooking a tropical beach with clear water, white sand, proper lighting, reflections, and shadows.\",\n",
        "   \"Close-up shot of a steaming towel enveloping a luxurious shaving soap bar, revealing a single drop of water cascading down its surface, magnifying its rich texture and natural botanical extracts.\",\n",
        "   \"Tranquil spa bathroom with a rainfall showerhead spraying water droplets onto a natural loofah resting beside a smooth, pebble-shaped shaving soap bar, sunlight streams through a window highlighting the calming bamboo accents.\",\n",
        "   \"advertisement image for Shaving soap , beautiful, natural scene with good lighting conditions, background should be a tropical beach,clear blue water ,white sand,realistic,highly detailed\"]"
      ],
      "metadata": {
        "id": "b3IjLJw6XJW_"
      },
      "execution_count": null,
      "outputs": []
    },
    {
      "cell_type": "code",
      "source": [
        "\n",
        "i=0\n",
        "text=l[i]\n",
        "init_image = load_image(\"/content/product1.jpg\").resize((512, 512))\n",
        "mask_image = load_image(\"/content/product1_mask.jpg\").resize((512, 512))\n",
        "\n",
        "generator = torch.Generator(\"cuda\").manual_seed(45)\n",
        "prompt = text\n",
        "negative_prompt=\"bad architecture, deformed, disfigured, poor details, low lightning, low resolution,low details, low shadows, low reflection\"\n",
        "image = pipeline(prompt=prompt,negative_prompt=negative_prompt,image=init_image, mask_image=mask_image,strength=1,high_noise_frac=0.9,guidance_scale=15,num_inference_steps=100,generator=generator).images[0]\n",
        "# make_image_grid([init_image, mask_image, image], rows=1, cols=3)\n",
        "display(image)\n",
        "image.save(f\"product1_{i}.png\")"
      ],
      "metadata": {
        "id": "ALSksrNzEaem"
      },
      "execution_count": null,
      "outputs": []
    },
    {
      "cell_type": "code",
      "source": [
        "i=1\n",
        "text=l[i]\n",
        "init_image = load_image(\"/content/product1.jpg\").resize((512, 512))\n",
        "mask_image = load_image(\"/content/product1_mask.jpg\").resize((512, 512))\n",
        "\n",
        "generator = torch.Generator(\"cuda\").manual_seed(92)\n",
        "prompt = text\n",
        "negative_prompt=\"bad architecture, deformed, disfigured, poor details, low lightning, low resolution,low details, low shadows, low reflection\"\n",
        "image = pipeline(prompt=prompt,negative_prompt=negative_prompt, image=init_image, mask_image=mask_image,strength=1,high_noise_frac=0.9,guidance_scale=15,num_inference_steps=100,generator=generator).images[0]\n",
        "# make_image_grid([init_image, mask_image, image], rows=1, cols=3)\n",
        "display(image)\n",
        "image.save(f\"product1_{i}.png\")"
      ],
      "metadata": {
        "id": "74zARM1lUF5w"
      },
      "execution_count": null,
      "outputs": []
    },
    {
      "cell_type": "code",
      "source": [
        "i=2\n",
        "text=l[i]\n",
        "init_image = load_image(\"/content/product1.jpg\").resize((512, 512))\n",
        "mask_image = load_image(\"/content/product1_mask.jpg\").resize((512, 512))\n",
        "\n",
        "generator = torch.Generator(\"cuda\").manual_seed(92)\n",
        "prompt = text\n",
        "negative_prompt=\"bad architecture, deformed, disfigured, poor details, low lightning, low resolution,low details, low shadows, low reflection\"\n",
        "image = pipeline(prompt=prompt,negative_prompt=negative_prompt, image=init_image, mask_image=mask_image,strength=1,high_noise_frac=0.9,guidance_scale=15,num_inference_steps=100,generator=generator).images[0]\n",
        "# make_image_grid([init_image, mask_image, image], rows=1, cols=3)\n",
        "display(image)\n",
        "image.save(f\"product1_{i}.png\")"
      ],
      "metadata": {
        "id": "ZTXwCSbgUL3J"
      },
      "execution_count": null,
      "outputs": []
    },
    {
      "cell_type": "code",
      "source": [
        "i=3\n",
        "text=l[i]\n",
        "init_image = load_image(\"/content/product1.jpg\").resize((512, 512))\n",
        "mask_image = load_image(\"/content/product1_mask.jpg\").resize((512, 512))\n",
        "\n",
        "generator = torch.Generator(\"cuda\").manual_seed(92)\n",
        "prompt = text\n",
        "negative_prompt=\"bad architecture, deformed, disfigured, poor details, low lightning, low resolution,low details, low shadows, low reflection\"\n",
        "image = pipeline(prompt=prompt,negative_prompt=negative_prompt, image=init_image, mask_image=mask_image,strength=1,high_noise_frac=0.9,guidance_scale=15,num_inference_steps=100,generator=generator).images[0]\n",
        "# make_image_grid([init_image, mask_image, image], rows=1, cols=3)\n",
        "display(image)\n",
        "image.save(f\"product1_{i}.png\")"
      ],
      "metadata": {
        "id": "FxEc3MLnUNfq"
      },
      "execution_count": null,
      "outputs": []
    },
    {
      "cell_type": "code",
      "source": [
        "i=4\n",
        "text=l[i]\n",
        "init_image = load_image(\"/content/product1.jpg\").resize((512, 512))\n",
        "mask_image = load_image(\"/content/product1_mask.jpg\").resize((512, 512))\n",
        "\n",
        "generator = torch.Generator(\"cuda\").manual_seed(92)\n",
        "prompt = text\n",
        "negative_prompt=\"bad architecture, deformed, disfigured, poor details, low lightning, low resolution,low details, low shadows, low reflection\"\n",
        "image = pipeline(prompt=prompt,negative_prompt=negative_prompt, image=init_image, mask_image=mask_image,strength=1,high_noise_frac=0.9,guidance_scale=15,num_inference_steps=100,generator=generator).images[0]\n",
        "# make_image_grid([init_image, mask_image, image], rows=1, cols=3)\n",
        "display(image)\n",
        "image.save(f\"product1_{i}.png\")"
      ],
      "metadata": {
        "id": "ud3ywX5wUPIo"
      },
      "execution_count": null,
      "outputs": []
    },
    {
      "cell_type": "code",
      "source": [
        "i=5\n",
        "text=l[i]\n",
        "init_image = load_image(\"/content/product1.jpg\").resize((512, 512))\n",
        "mask_image = load_image(\"/content/product1_mask.jpg\").resize((512, 512))\n",
        "\n",
        "generator = torch.Generator(\"cuda\").manual_seed(92)\n",
        "prompt = text\n",
        "negative_prompt=\"bad architecture, deformed, disfigured, poor details, low lightning, low resolution,low details, low shadows, low reflection\"\n",
        "image = pipeline(prompt=prompt,negative_prompt=negative_prompt, image=init_image, mask_image=mask_image,strength=1,high_noise_frac=0.9,guidance_scale=15,num_inference_steps=100,generator=generator).images[0]\n",
        "# make_image_grid([init_image, mask_image, image], rows=1, cols=3)\n",
        "display(image)\n",
        "image.save(f\"product1_{i}.png\")"
      ],
      "metadata": {
        "colab": {
          "base_uri": "https://localhost:8080/",
          "height": 211
        },
        "id": "NXLBNz2WUQgl",
        "outputId": "2b757f3a-7b80-4a22-a051-23a1bb19d038"
      },
      "execution_count": 1,
      "outputs": [
        {
          "output_type": "error",
          "ename": "NameError",
          "evalue": "name 'l' is not defined",
          "traceback": [
            "\u001b[0;31m---------------------------------------------------------------------------\u001b[0m",
            "\u001b[0;31mNameError\u001b[0m                                 Traceback (most recent call last)",
            "\u001b[0;32m<ipython-input-1-683834b3edf4>\u001b[0m in \u001b[0;36m<cell line: 2>\u001b[0;34m()\u001b[0m\n\u001b[1;32m      1\u001b[0m \u001b[0mi\u001b[0m\u001b[0;34m=\u001b[0m\u001b[0;36m5\u001b[0m\u001b[0;34m\u001b[0m\u001b[0;34m\u001b[0m\u001b[0m\n\u001b[0;32m----> 2\u001b[0;31m \u001b[0mtext\u001b[0m\u001b[0;34m=\u001b[0m\u001b[0ml\u001b[0m\u001b[0;34m[\u001b[0m\u001b[0mi\u001b[0m\u001b[0;34m]\u001b[0m\u001b[0;34m\u001b[0m\u001b[0;34m\u001b[0m\u001b[0m\n\u001b[0m\u001b[1;32m      3\u001b[0m \u001b[0minit_image\u001b[0m \u001b[0;34m=\u001b[0m \u001b[0mload_image\u001b[0m\u001b[0;34m(\u001b[0m\u001b[0;34m\"/content/product1.jpg\"\u001b[0m\u001b[0;34m)\u001b[0m\u001b[0;34m.\u001b[0m\u001b[0mresize\u001b[0m\u001b[0;34m(\u001b[0m\u001b[0;34m(\u001b[0m\u001b[0;36m512\u001b[0m\u001b[0;34m,\u001b[0m \u001b[0;36m512\u001b[0m\u001b[0;34m)\u001b[0m\u001b[0;34m)\u001b[0m\u001b[0;34m\u001b[0m\u001b[0;34m\u001b[0m\u001b[0m\n\u001b[1;32m      4\u001b[0m \u001b[0mmask_image\u001b[0m \u001b[0;34m=\u001b[0m \u001b[0mload_image\u001b[0m\u001b[0;34m(\u001b[0m\u001b[0;34m\"/content/product1_mask.jpg\"\u001b[0m\u001b[0;34m)\u001b[0m\u001b[0;34m.\u001b[0m\u001b[0mresize\u001b[0m\u001b[0;34m(\u001b[0m\u001b[0;34m(\u001b[0m\u001b[0;36m512\u001b[0m\u001b[0;34m,\u001b[0m \u001b[0;36m512\u001b[0m\u001b[0;34m)\u001b[0m\u001b[0;34m)\u001b[0m\u001b[0;34m\u001b[0m\u001b[0;34m\u001b[0m\u001b[0m\n\u001b[1;32m      5\u001b[0m \u001b[0;34m\u001b[0m\u001b[0m\n",
            "\u001b[0;31mNameError\u001b[0m: name 'l' is not defined"
          ]
        }
      ]
    },
    {
      "cell_type": "code",
      "source": [
        "i=6\n",
        "text=l[i]\n",
        "init_image = load_image(\"/content/product1.jpg\").resize((512, 512))\n",
        "mask_image = load_image(\"/content/product1_mask.jpg\").resize((512, 512))\n",
        "\n",
        "generator = torch.Generator(\"cuda\").manual_seed(92)\n",
        "prompt = text\n",
        "negative_prompt=\"bad architecture, deformed, disfigured, poor details, low lightning, low resolution,low details, low shadows, low reflection\"\n",
        "image = pipeline(prompt=prompt,negative_prompt=negative_prompt, image=init_image, mask_image=mask_image,strength=1,high_noise_frac=0.9,guidance_scale=15,num_inference_steps=100,generator=generator).images[0]\n",
        "# make_image_grid([init_image, mask_image, image], rows=1, cols=3)\n",
        "display(image)\n",
        "image.save(f\"product1_{i}.png\")"
      ],
      "metadata": {
        "id": "RNvaMYGqUSAP"
      },
      "execution_count": null,
      "outputs": []
    },
    {
      "cell_type": "code",
      "source": [
        "l2=[\"Velvet jewelry box lined with plush white satin, a single diamond ring rests in the center, its reflection shimmering on the soft fabric.\",\n",
        "\"Diamond ring nestled on a crystal decanter filled with a vintage amber liquid, the diamond reflects a kaleidoscope of colors through the glass.\",\n",
        "\"Diamond ring in velvet box, reflecting in mirror\",\n",
        "\"Vintage vanity table with a single diamond ring lying on a mirrored surface, the mirrored surface reflects the intricate details of the ring and hints of antique jewelry boxes in the background. \",\n",
        "\"Sun-drenched poolside scene, A diamond ring rests on a poolside chaise lounge, the reflection of the ring and palm trees shimmering on the cool blue water.\",\n",
        "\"Open book with a love poem written on the page, a diamond ring sits atop the poem, the ring and words reflected on the polished surface of a wooden desk. \",\n",
        "\"Close-up shot of a diamond ring placed on a bed of white rose petals scattered on a mirrored surface, the reflection creates a mesmerizing pattern of petals and diamonds.\",\n",
        "\"Diamond ring embedded within a block of clear ice, sunlight refracting through the ice and creating a rainbow of colors around the diamond.\",\n",
        "\"Art Deco jewelry box with a geometric pattern inlaid on the lid, a diamond ring sits inside the box with the lid partially open, the ring's reflection echoing the geometric pattern on the lid. \",\n",
        "\"Create a whimsical background with abstract swirls and whimsical patterns in playful colors, adding a touch of creativity and imagination to the scene.\"]"
      ],
      "metadata": {
        "id": "vgYezGZ9Zo9m"
      },
      "execution_count": null,
      "outputs": []
    },
    {
      "cell_type": "code",
      "source": [
        "i=0\n",
        "text=l2[i]\n",
        "init_image = load_image(\"/content/product2.jpg\").resize((512, 512))\n",
        "mask_image = load_image(\"/content/product2_mask.jpg\").resize((512, 512))\n",
        "\n",
        "generator = torch.Generator(\"cuda\").manual_seed(92)\n",
        "prompt = text\n",
        "negative_prompt=\"bad architecture, deformed, disfigured, poor details, low lightning, low resolution,low details, low shadows, low reflection\"\n",
        "image = pipeline(prompt=prompt,negative_prompt=negative_prompt, image=init_image, mask_image=mask_image,strength=1,high_noise_frac=0.9,guidance_scale=15,num_inference_steps=100,generator=generator).images[0]\n",
        "# make_image_grid([init_image, mask_image, image], rows=1, cols=3)\n",
        "display(image)\n",
        "image.save(f\"product2_{i}.png\")"
      ],
      "metadata": {
        "id": "PxapJ_qDbr9X"
      },
      "execution_count": null,
      "outputs": []
    },
    {
      "cell_type": "code",
      "source": [
        "i=1\n",
        "text=l2[i]\n",
        "init_image = load_image(\"/content/product2.jpg\").resize((512, 512))\n",
        "mask_image = load_image(\"/content/product2_mask.jpg\").resize((512, 512))\n",
        "\n",
        "generator = torch.Generator(\"cuda\").manual_seed(92)\n",
        "prompt = text\n",
        "negative_prompt=\"bad architecture, deformed, disfigured, poor details, low lightning, low resolution,low details, low shadows, low reflection\"\n",
        "image = pipeline(prompt=prompt,negative_prompt=negative_prompt, image=init_image, mask_image=mask_image,strength=1,high_noise_frac=0.9,guidance_scale=15,num_inference_steps=100,generator=generator).images[0]\n",
        "# make_image_grid([init_image, mask_image, image], rows=1, cols=3)\n",
        "display(image)\n",
        "image.save(f\"product2_{i}.png\")"
      ],
      "metadata": {
        "id": "tdUXk49ibxyG"
      },
      "execution_count": null,
      "outputs": []
    },
    {
      "cell_type": "code",
      "source": [
        "i=2\n",
        "text=l2[i]\n",
        "init_image = load_image(\"/content/product2.jpg\").resize((512, 512))\n",
        "mask_image = load_image(\"/content/product2_mask.jpg\").resize((512, 512))\n",
        "\n",
        "generator = torch.Generator(\"cuda\").manual_seed(92)\n",
        "prompt = text\n",
        "negative_prompt=\"bad architecture, deformed, disfigured, poor details, low lightning, low resolution,low details, low shadows, low reflection\"\n",
        "image = pipeline(prompt=prompt,negative_prompt=negative_prompt, image=init_image, mask_image=mask_image,strength=1,high_noise_frac=0.9,guidance_scale=15,num_inference_steps=100,generator=generator).images[0]\n",
        "# make_image_grid([init_image, mask_image, image], rows=1, cols=3)\n",
        "display(image)\n",
        "image.save(f\"product2_{i}.png\")"
      ],
      "metadata": {
        "id": "sfeVKnpDb2mL"
      },
      "execution_count": null,
      "outputs": []
    },
    {
      "cell_type": "code",
      "source": [
        "i=3\n",
        "text=l2[i]\n",
        "init_image = load_image(\"/content/product2.jpg\").resize((512, 512))\n",
        "mask_image = load_image(\"/content/product2_mask.jpg\").resize((512, 512))\n",
        "\n",
        "generator = torch.Generator(\"cuda\").manual_seed(92)\n",
        "prompt = text\n",
        "negative_prompt=\"bad architecture, deformed, disfigured, poor details, low lightning, low resolution,low details, low shadows, low reflection\"\n",
        "image = pipeline(prompt=prompt,negative_prompt=negative_prompt, image=init_image, mask_image=mask_image,strength=1,high_noise_frac=0.9,guidance_scale=15,num_inference_steps=100,generator=generator).images[0]\n",
        "# make_image_grid([init_image, mask_image, image], rows=1, cols=3)\n",
        "display(image)\n",
        "image.save(f\"product2_{i}.png\")"
      ],
      "metadata": {
        "id": "2HZSL3iOb5oo"
      },
      "execution_count": null,
      "outputs": []
    },
    {
      "cell_type": "code",
      "source": [
        "i=4\n",
        "text=l2[i]\n",
        "init_image = load_image(\"/content/product2.jpg\").resize((512, 512))\n",
        "mask_image = load_image(\"/content/product2_mask.jpg\").resize((512, 512))\n",
        "\n",
        "generator = torch.Generator(\"cuda\").manual_seed(92)\n",
        "prompt = text\n",
        "negative_prompt=\"bad architecture, deformed, disfigured, poor details, low lightning, low resolution,low details, low shadows, low reflection\"\n",
        "image = pipeline(prompt=prompt,negative_prompt=negative_prompt, image=init_image, mask_image=mask_image,strength=1,high_noise_frac=0.9,guidance_scale=15,num_inference_steps=100,generator=generator).images[0]\n",
        "# make_image_grid([init_image, mask_image, image], rows=1, cols=3)\n",
        "display(image)\n",
        "image.save(f\"product2_{i}.png\")"
      ],
      "metadata": {
        "id": "vSltolFnb52J"
      },
      "execution_count": null,
      "outputs": []
    },
    {
      "cell_type": "code",
      "source": [
        "i=5\n",
        "text=l2[i]\n",
        "init_image = load_image(\"/content/product2.jpg\").resize((512, 512))\n",
        "mask_image = load_image(\"/content/product2_mask.jpg\").resize((512, 512))\n",
        "\n",
        "generator = torch.Generator(\"cuda\").manual_seed(92)\n",
        "prompt = text\n",
        "negative_prompt=\"bad architecture, deformed, disfigured, poor details, low lightning, low resolution,low details, low shadows, low reflection\"\n",
        "image = pipeline(prompt=prompt,negative_prompt=negative_prompt, image=init_image, mask_image=mask_image,strength=1,high_noise_frac=0.9,guidance_scale=15,num_inference_steps=100,generator=generator).images[0]\n",
        "# make_image_grid([init_image, mask_image, image], rows=1, cols=3)\n",
        "display(image)\n",
        "image.save(f\"product2_{i}.png\")"
      ],
      "metadata": {
        "id": "YT7v_5trb6BS"
      },
      "execution_count": null,
      "outputs": []
    },
    {
      "cell_type": "code",
      "source": [
        "i=6\n",
        "text=l2[i]\n",
        "init_image = load_image(\"/content/product2.jpg\").resize((512, 512))\n",
        "mask_image = load_image(\"/content/product2_mask.jpg\").resize((512, 512))\n",
        "\n",
        "generator = torch.Generator(\"cuda\").manual_seed(92)\n",
        "prompt = text\n",
        "negative_prompt=\"bad architecture, deformed, disfigured, poor details, low lightning, low resolution,low details, low shadows, low reflection\"\n",
        "image = pipeline(prompt=prompt,negative_prompt=negative_prompt, image=init_image, mask_image=mask_image,strength=1,high_noise_frac=0.9,guidance_scale=15,num_inference_steps=100,generator=generator).images[0]\n",
        "# make_image_grid([init_image, mask_image, image], rows=1, cols=3)\n",
        "display(image)\n",
        "image.save(f\"product2_{i}.png\")"
      ],
      "metadata": {
        "id": "vIfWHKD0b6Lp"
      },
      "execution_count": null,
      "outputs": []
    },
    {
      "cell_type": "code",
      "source": [
        "i=7\n",
        "text=l2[i]\n",
        "init_image = load_image(\"/content/product2.jpg\").resize((512, 512))\n",
        "mask_image = load_image(\"/content/product2_mask.jpg\").resize((512, 512))\n",
        "\n",
        "generator = torch.Generator(\"cuda\").manual_seed(92)\n",
        "prompt = text\n",
        "negative_prompt=\"bad architecture, deformed, disfigured, poor details, low lightning, low resolution,low details, low shadows, low reflection\"\n",
        "image = pipeline(prompt=prompt,negative_prompt=negative_prompt, image=init_image, mask_image=mask_image,strength=1,high_noise_frac=0.9,guidance_scale=15,num_inference_steps=100,generator=generator).images[0]\n",
        "# make_image_grid([init_image, mask_image, image], rows=1, cols=3)\n",
        "display(image)\n",
        "image.save(f\"product2_{i}.png\")"
      ],
      "metadata": {
        "id": "3tyYijLWb6UP"
      },
      "execution_count": null,
      "outputs": []
    },
    {
      "cell_type": "code",
      "source": [
        "i=8\n",
        "text=l2[i]\n",
        "init_image = load_image(\"/content/product2.jpg\").resize((512, 512))\n",
        "mask_image = load_image(\"/content/product2_mask.jpg\").resize((512, 512))\n",
        "\n",
        "generator = torch.Generator(\"cuda\").manual_seed(92)\n",
        "prompt = text\n",
        "negative_prompt=\"bad architecture, deformed, disfigured, poor details, low lightning, low resolution,low details, low shadows, low reflection\"\n",
        "image = pipeline(prompt=prompt,negative_prompt=negative_prompt, image=init_image, mask_image=mask_image,strength=1,high_noise_frac=0.9,guidance_scale=15,num_inference_steps=100,generator=generator).images[0]\n",
        "# make_image_grid([init_image, mask_image, image], rows=1, cols=3)\n",
        "display(image)\n",
        "image.save(f\"product2_{i}.png\")"
      ],
      "metadata": {
        "id": "YH6AR5-bb6ja"
      },
      "execution_count": null,
      "outputs": []
    },
    {
      "cell_type": "code",
      "source": [
        "i=9\n",
        "text=l2[i]\n",
        "init_image = load_image(\"/content/product2.jpg\").resize((512, 512))\n",
        "mask_image = load_image(\"/content/product2_mask.jpg\").resize((512, 512))\n",
        "\n",
        "generator = torch.Generator(\"cuda\").manual_seed(92)\n",
        "prompt = text\n",
        "negative_prompt=\"bad architecture, deformed, disfigured, poor details, low lightning, low resolution,low details, low shadows, low reflection\"\n",
        "image = pipeline(prompt=prompt,negative_prompt=negative_prompt, image=init_image, mask_image=mask_image,strength=1,high_noise_frac=0.9,guidance_scale=15,num_inference_steps=100,generator=generator).images[0]\n",
        "# make_image_grid([init_image, mask_image, image], rows=1, cols=3)\n",
        "display(image)\n",
        "image.save(f\"product2_{i}.png\")"
      ],
      "metadata": {
        "id": "fQ3GaMr4Syva"
      },
      "execution_count": null,
      "outputs": []
    },
    {
      "cell_type": "code",
      "source": [
        "l3=[\"Frosted glass aftershave bottle bathed in cool morning light, condensation droplets clinging to the surface.\",\n",
        "\"Sleek metal aftershave bottle nestled on a bed of smooth black pebbles, a single blade of grass adds a touch of nature. \",\n",
        "\"Vintage apothecary shelf showcasing a classic aftershave bottle with a worn leather label, sunlight streams through dusty bottles in the background. \",\n",
        "\"Aftershave bottle on a weathered wooden deck overlooking a misty mountain landscape, a plume of steam rises from the bottle's nozzle. \",\n",
        "\"Close-up shot of an aftershave bottle being splashed with cool water, droplets cascading down the glass and revealing the label underneath. \",\n",
        "\"Aftershave bottle nestled in a luxurious leather toiletry bag, surrounded by travel essentials like a shaving brush and razor. \",\n",
        "\"Black and white photo of a man's face, perfectly smooth after a shave, a single aftershave bottle rests beside the basin, casting a long shadow. \",\n",
        "\"Aftershave bottle on a marble bathroom counter, next to a crisp white towel. \",\n",
        "\"Futuristic aftershave bottle with a glowing blue light emanating from within, holographic text displays the product's benefits. \",\n",
        "\"Aftershave bottle on a wooden table surrounded by natural ingredients like botanical extracts and essential oils. \"]"
      ],
      "metadata": {
        "id": "7r3mLg_YtNPe"
      },
      "execution_count": null,
      "outputs": []
    },
    {
      "cell_type": "code",
      "source": [
        "i=0\n",
        "text=l3[i]\n",
        "init_image = load_image(\"/content/product3.jpg\").resize((512, 512))\n",
        "mask_image = load_image(\"/content/product3_mask.jpg\").resize((512, 512))\n",
        "\n",
        "generator = torch.Generator(\"cuda\").manual_seed(92)\n",
        "prompt = text\n",
        "negative_prompt=\"bad architecture, deformed, disfigured, poor details, low lightning, low resolution,low details, low shadows, low reflection\"\n",
        "image = pipeline(prompt=prompt,negative_prompt=negative_prompt, image=init_image, mask_image=mask_image,strength=1,high_noise_frac=0.9,guidance_scale=15,num_inference_steps=100,generator=generator).images[0]\n",
        "# make_image_grid([init_image, mask_image, image], rows=1, cols=3)\n",
        "display(image)\n",
        "image.save(f\"product3_{i}.png\")"
      ],
      "metadata": {
        "id": "7Q70ENOwtpcd"
      },
      "execution_count": null,
      "outputs": []
    },
    {
      "cell_type": "code",
      "source": [
        "i=1\n",
        "text=l3[i]\n",
        "init_image = load_image(\"/content/product3.jpg\").resize((512, 512))\n",
        "mask_image = load_image(\"/content/product3_mask.jpg\").resize((512, 512))\n",
        "\n",
        "generator = torch.Generator(\"cuda\").manual_seed(92)\n",
        "prompt = text\n",
        "negative_prompt=\"bad architecture, deformed, disfigured, poor details, low lightning, low resolution,low details, low shadows, low reflection\"\n",
        "image = pipeline(prompt=prompt,negative_prompt=negative_prompt, image=init_image, mask_image=mask_image,strength=1,high_noise_frac=0.9,guidance_scale=15,num_inference_steps=100,generator=generator).images[0]\n",
        "# make_image_grid([init_image, mask_image, image], rows=1, cols=3)\n",
        "display(image)\n",
        "image.save(f\"product3_{i}.png\")"
      ],
      "metadata": {
        "id": "NGbT7xVHtwo6"
      },
      "execution_count": null,
      "outputs": []
    },
    {
      "cell_type": "code",
      "source": [
        "i=2\n",
        "text=l3[i]\n",
        "init_image = load_image(\"/content/product3.jpg\").resize((512, 512))\n",
        "mask_image = load_image(\"/content/product3_mask.jpg\").resize((512, 512))\n",
        "\n",
        "generator = torch.Generator(\"cuda\").manual_seed(92)\n",
        "prompt = text\n",
        "negative_prompt=\"bad architecture, deformed, disfigured, poor details, low lightning, low resolution,low details, low shadows, low reflection\"\n",
        "image = pipeline(prompt=prompt,negative_prompt=negative_prompt, image=init_image, mask_image=mask_image,strength=1,high_noise_frac=0.9,guidance_scale=15,num_inference_steps=100,generator=generator).images[0]\n",
        "# make_image_grid([init_image, mask_image, image], rows=1, cols=3)\n",
        "display(image)\n",
        "image.save(f\"product3_{i}.png\")"
      ],
      "metadata": {
        "id": "04Bk8Inatyq2"
      },
      "execution_count": null,
      "outputs": []
    },
    {
      "cell_type": "code",
      "source": [
        "i=3\n",
        "text=l3[i]\n",
        "init_image = load_image(\"/content/product3.jpg\").resize((512, 512))\n",
        "mask_image = load_image(\"/content/product3_mask.jpg\").resize((512, 512))\n",
        "\n",
        "generator = torch.Generator(\"cuda\").manual_seed(92)\n",
        "prompt = text\n",
        "negative_prompt=\"bad architecture, deformed, disfigured, poor details, low lightning, low resolution,low details, low shadows, low reflection\"\n",
        "image = pipeline(prompt=prompt,negative_prompt=negative_prompt, image=init_image, mask_image=mask_image,strength=1,high_noise_frac=0.9,guidance_scale=15,num_inference_steps=100,generator=generator).images[0]\n",
        "# make_image_grid([init_image, mask_image, image], rows=1, cols=3)\n",
        "display(image)\n",
        "image.save(f\"product3_{i}.png\")"
      ],
      "metadata": {
        "id": "S0eWr-MStzIP"
      },
      "execution_count": null,
      "outputs": []
    },
    {
      "cell_type": "code",
      "source": [
        "i=4\n",
        "text=l3[i]\n",
        "init_image = load_image(\"/content/product3.jpg\").resize((512, 512))\n",
        "mask_image = load_image(\"/content/product3_mask.jpg\").resize((512, 512))\n",
        "\n",
        "generator = torch.Generator(\"cuda\").manual_seed(92)\n",
        "prompt = text\n",
        "negative_prompt=\"bad architecture, deformed, disfigured, poor details, low lightning, low resolution,low details, low shadows, low reflection\"\n",
        "image = pipeline(prompt=prompt,negative_prompt=negative_prompt, image=init_image, mask_image=mask_image,strength=1,high_noise_frac=0.9,guidance_scale=15,num_inference_steps=100,generator=generator).images[0]\n",
        "# make_image_grid([init_image, mask_image, image], rows=1, cols=3)\n",
        "display(image)\n",
        "image.save(f\"product3_{i}.png\")"
      ],
      "metadata": {
        "id": "yh_r9KkftzYa"
      },
      "execution_count": null,
      "outputs": []
    },
    {
      "cell_type": "code",
      "source": [
        "i=5\n",
        "text=l3[i]\n",
        "init_image = load_image(\"/content/product3.jpg\").resize((512, 512))\n",
        "mask_image = load_image(\"/content/product3_mask.jpg\").resize((512, 512))\n",
        "\n",
        "generator = torch.Generator(\"cuda\").manual_seed(92)\n",
        "prompt = text\n",
        "negative_prompt=\"bad architecture, deformed, disfigured, poor details, low lightning, low resolution,low details, low shadows, low reflection\"\n",
        "image = pipeline(prompt=prompt,negative_prompt=negative_prompt, image=init_image, mask_image=mask_image,strength=1,high_noise_frac=0.9,guidance_scale=15,num_inference_steps=100,generator=generator).images[0]\n",
        "# make_image_grid([init_image, mask_image, image], rows=1, cols=3)\n",
        "display(image)\n",
        "image.save(f\"product3_{i}.png\")"
      ],
      "metadata": {
        "id": "KjaxxTiCtzlu"
      },
      "execution_count": null,
      "outputs": []
    },
    {
      "cell_type": "code",
      "source": [
        "i=6\n",
        "text=l3[i]\n",
        "init_image = load_image(\"/content/product3.jpg\").resize((512, 512))\n",
        "mask_image = load_image(\"/content/product3_mask.jpg\").resize((512, 512))\n",
        "\n",
        "generator = torch.Generator(\"cuda\").manual_seed(92)\n",
        "prompt = text\n",
        "negative_prompt=\"bad architecture, deformed, disfigured, poor details, low lightning, low resolution,low details, low shadows, low reflection\"\n",
        "image = pipeline(prompt=prompt,negative_prompt=negative_prompt, image=init_image, mask_image=mask_image,strength=1,high_noise_frac=0.9,guidance_scale=15,num_inference_steps=100,generator=generator).images[0]\n",
        "# make_image_grid([init_image, mask_image, image], rows=1, cols=3)\n",
        "display(image)\n",
        "image.save(f\"product3_{i}.png\")"
      ],
      "metadata": {
        "id": "5a-niY4Qtzy4"
      },
      "execution_count": null,
      "outputs": []
    },
    {
      "cell_type": "code",
      "source": [
        "i=7\n",
        "text=l3[i]\n",
        "init_image = load_image(\"/content/product3.jpg\").resize((512, 512))\n",
        "mask_image = load_image(\"/content/product3_mask.jpg\").resize((512, 512))\n",
        "\n",
        "generator = torch.Generator(\"cuda\").manual_seed(92)\n",
        "prompt = text\n",
        "negative_prompt=\"bad architecture, deformed, disfigured, poor details, low lightning, low resolution,low details, low shadows, low reflection\"\n",
        "image = pipeline(prompt=prompt,negative_prompt=negative_prompt, image=init_image, mask_image=mask_image,strength=1,high_noise_frac=0.9,guidance_scale=15,num_inference_steps=100,generator=generator).images[0]\n",
        "# make_image_grid([init_image, mask_image, image], rows=1, cols=3)\n",
        "display(image)\n",
        "image.save(f\"product3_{i}.png\")"
      ],
      "metadata": {
        "id": "JWU3FqdQtz8d"
      },
      "execution_count": null,
      "outputs": []
    },
    {
      "cell_type": "code",
      "source": [
        "i=8\n",
        "text=l3[i]\n",
        "init_image = load_image(\"/content/product3.jpg\").resize((512, 512))\n",
        "mask_image = load_image(\"/content/product3_mask.jpg\").resize((512, 512))\n",
        "\n",
        "generator = torch.Generator(\"cuda\").manual_seed(92)\n",
        "prompt = text\n",
        "negative_prompt=\"bad architecture, deformed, disfigured, poor details, low lightning, low resolution,low details, low shadows, low reflection\"\n",
        "image = pipeline(prompt=prompt,negative_prompt=negative_prompt, image=init_image, mask_image=mask_image,strength=1,high_noise_frac=0.9,guidance_scale=15,num_inference_steps=100,generator=generator).images[0]\n",
        "# make_image_grid([init_image, mask_image, image], rows=1, cols=3)\n",
        "display(image)\n",
        "image.save(f\"product3_{i}.png\")"
      ],
      "metadata": {
        "id": "gKPLQRJ4t0Fy"
      },
      "execution_count": null,
      "outputs": []
    },
    {
      "cell_type": "code",
      "source": [
        "i=9\n",
        "text=l3[i]\n",
        "init_image = load_image(\"/content/product3.jpg\").resize((512, 512))\n",
        "mask_image = load_image(\"/content/product3_mask.jpg\").resize((512, 512))\n",
        "\n",
        "generator = torch.Generator(\"cuda\").manual_seed(92)\n",
        "prompt = text\n",
        "negative_prompt=\"bad architecture, deformed, disfigured, poor details, low lightning, low resolution,low details, low shadows, low reflection\"\n",
        "image = pipeline(prompt=prompt,negative_prompt=negative_prompt, image=init_image, mask_image=mask_image,strength=1,high_noise_frac=0.9,guidance_scale=15,num_inference_steps=100,generator=generator).images[0]\n",
        "# make_image_grid([init_image, mask_image, image], rows=1, cols=3)\n",
        "display(image)\n",
        "image.save(f\"product3_{i}.png\")"
      ],
      "metadata": {
        "id": "yvxzB682t0OW"
      },
      "execution_count": null,
      "outputs": []
    },
    {
      "cell_type": "code",
      "source": [
        "l4=[\"Monk Shoes in a Rustic Workshop: Generate an image of monk shoes placed on a wooden workbench in a rustic workshop setting. Ensure the lighting is warm and natural, with subtle reflections of the shoes on the wooden surface.\",\n",
        "\"Monk Shoes by a Window: Create a scene where monk shoes are placed near a window, allowing natural light to filter in. Include realistic reflections of the shoes on the window glass and a hint of outdoor scenery visible through the window.\",\n",
        "\"Monk Shoes on Cobblestone Street: Generate an image of monk shoes placed on a textured cobblestone street. Ensure the lighting mimics daylight, casting soft shadows and realistic reflections of the shoes on the uneven surface.litlle bit green grass is there\",\n",
        "\"Monk Shoes in a Retail Display: Create a display featuring monk shoes in a stylish retail box. Use professional lighting to highlight the details of the shoe and create a polished, high-end look.\",\n",
        "\"Monk Shoes on a Polished Wooden Floor: Generate an image of monk shoes arranged neatly on a polished wooden floor. Capture the natural sheen of the wood and ensure the lighting enhances the richness of the scene.\",\n",
        "\"Monk Shoes in a Park Setting: Create a serene scene with monk shoes placed on a park bench or near a tree in a park setting. Use soft, natural lighting to convey a peaceful atmosphere with subtle reflections on nearby surfaces.\",\n",
        "\" Generate an image of monk shoes placed in a vintage study or library setting. Incorporate warm, soft lighting to highlight the old-world charm and include reflections on antique furniture .place tge shoe on some soid surface\",\n",
        "\"Monk Shoes on a Hotel Lobby Floor: Create a sophisticated image with monk shoes placed elegantly on a hotel lobby floor. Use ambient lighting to capture the luxurious ambiance and ensure the reflections enhance the sense of grandeur.\",\n",
        "\"Monk Shoes Beside a Fireplace: Generate a cozy scene with monk shoes placed beside a crackling fireplace. Use warm, inviting lighting to accentuate the comfort of the setting and include realistic reflections on nearby objects.\",\n",
        "\"Create a trendy urban scene with monk shoes placed on a countertop. Use ambient lightingand include reflections on polished surfaces like glass or marble to add depth to the image.\"]"
      ],
      "metadata": {
        "id": "IUPaJ2LbJbQv"
      },
      "execution_count": null,
      "outputs": []
    },
    {
      "cell_type": "code",
      "source": [
        "i=0\n",
        "text=l4[i]\n",
        "init_image = load_image(\"/content/product4.jpg\").resize((512, 512))\n",
        "mask_image = load_image(\"/content/product4_mask.jpg\").resize((512, 512))\n",
        "\n",
        "generator = torch.Generator(\"cuda\").manual_seed(92)\n",
        "prompt = text\n",
        "negative_prompt=\"bad architecture, deformed, disfigured, poor details, low lightning, low resolution,low details, low shadows, low reflection\"\n",
        "image = pipeline(prompt=prompt,negative_prompt=negative_prompt, image=init_image, mask_image=mask_image,strength=1,high_noise_frac=0.9,guidance_scale=15,num_inference_steps=100,generator=generator).images[0]\n",
        "# make_image_grid([init_image, mask_image, image], rows=1, cols=3)\n",
        "display(image)\n",
        "image.save(f\"product4_{i}.png\")"
      ],
      "metadata": {
        "id": "C1HEB147JkDS"
      },
      "execution_count": null,
      "outputs": []
    },
    {
      "cell_type": "code",
      "source": [
        "i=1\n",
        "text=l4[i]\n",
        "init_image = load_image(\"/content/product4.jpg\").resize((512, 512))\n",
        "mask_image = load_image(\"/content/product4_mask.jpg\").resize((512, 512))\n",
        "\n",
        "generator = torch.Generator(\"cuda\").manual_seed(92)\n",
        "prompt = text\n",
        "negative_prompt=\"bad architecture, deformed, disfigured, poor details, low lightning, low resolution,low details, low shadows, low reflection\"\n",
        "image = pipeline(prompt=prompt,negative_prompt=negative_prompt, image=init_image, mask_image=mask_image,strength=1,high_noise_frac=0.9,guidance_scale=15,num_inference_steps=100,generator=generator).images[0]\n",
        "# make_image_grid([init_image, mask_image, image], rows=1, cols=3)\n",
        "display(image)\n",
        "image.save(f\"product4_{i}.png\")"
      ],
      "metadata": {
        "id": "D0JXOP1mJqT9"
      },
      "execution_count": null,
      "outputs": []
    },
    {
      "cell_type": "code",
      "source": [
        "i=2\n",
        "text=l4[i]\n",
        "init_image = load_image(\"/content/product4.jpg\").resize((512, 512))\n",
        "mask_image = load_image(\"/content/product4_mask.jpg\").resize((512, 512))\n",
        "\n",
        "generator = torch.Generator(\"cuda\").manual_seed(45)\n",
        "prompt = text\n",
        "negative_prompt=\"bad architecture, deformed, disfigured, poor details, low lightning, low resolution,low details, low shadows, low reflection\"\n",
        "image = pipeline(prompt=prompt,negative_prompt=negative_prompt, image=init_image, mask_image=mask_image,strength=1,high_noise_frac=0.9,guidance_scale=15,num_inference_steps=100,generator=generator).images[0]\n",
        "# make_image_grid([init_image, mask_image, image], rows=1, cols=3)\n",
        "display(image)\n",
        "image.save(f\"product4_{i}.png\")"
      ],
      "metadata": {
        "id": "KKuIPpIdJv8l"
      },
      "execution_count": null,
      "outputs": []
    },
    {
      "cell_type": "code",
      "source": [
        "i=3\n",
        "text=l4[i]\n",
        "init_image = load_image(\"/content/product4.jpg\").resize((512, 512))\n",
        "mask_image = load_image(\"/content/product4_mask.jpg\").resize((512, 512))\n",
        "\n",
        "generator = torch.Generator(\"cuda\").manual_seed(92)\n",
        "prompt = text\n",
        "negative_prompt=\"bad architecture, deformed, disfigured, poor details, low lightning, low resolution,low details, low shadows, low reflection\"\n",
        "image = pipeline(prompt=prompt,negative_prompt=negative_prompt, image=init_image, mask_image=mask_image,strength=1,high_noise_frac=0.9,guidance_scale=15,num_inference_steps=100,generator=generator).images[0]\n",
        "# make_image_grid([init_image, mask_image, image], rows=1, cols=3)\n",
        "display(image)\n",
        "image.save(f\"product4_{i}.png\")"
      ],
      "metadata": {
        "id": "lGU4_lFxJwH9"
      },
      "execution_count": null,
      "outputs": []
    },
    {
      "cell_type": "code",
      "source": [
        "i=4\n",
        "text=l4[i]\n",
        "init_image = load_image(\"/content/product4.jpg\").resize((512, 512))\n",
        "mask_image = load_image(\"/content/product4_mask.jpg\").resize((512, 512))\n",
        "\n",
        "generator = torch.Generator(\"cuda\").manual_seed(92)\n",
        "prompt = text\n",
        "negative_prompt=\"bad architecture, deformed, disfigured, poor details, low lightning, low resolution,low details, low shadows, low reflection\"\n",
        "image = pipeline(prompt=prompt,negative_prompt=negative_prompt, image=init_image, mask_image=mask_image,strength=1,high_noise_frac=0.9,guidance_scale=15,num_inference_steps=100,generator=generator).images[0]\n",
        "# make_image_grid([init_image, mask_image, image], rows=1, cols=3)\n",
        "display(image)\n",
        "image.save(f\"product4_{i}.png\")"
      ],
      "metadata": {
        "id": "CYvKa_88JwSC"
      },
      "execution_count": null,
      "outputs": []
    },
    {
      "cell_type": "code",
      "source": [
        "i=5\n",
        "text=l4[i]\n",
        "init_image = load_image(\"/content/product4.jpg\").resize((512, 512))\n",
        "mask_image = load_image(\"/content/product4_mask.jpg\").resize((512, 512))\n",
        "\n",
        "generator = torch.Generator(\"cuda\").manual_seed(92)\n",
        "prompt = text\n",
        "negative_prompt=\"bad architecture, deformed, disfigured, poor details, low lightning, low resolution,low details, low shadows, low reflection\"\n",
        "image = pipeline(prompt=prompt,negative_prompt=negative_prompt, image=init_image, mask_image=mask_image,strength=1,high_noise_frac=0.9,guidance_scale=15,num_inference_steps=100,generator=generator).images[0]\n",
        "# make_image_grid([init_image, mask_image, image], rows=1, cols=3)\n",
        "display(image)\n",
        "image.save(f\"product4_{i}.png\")"
      ],
      "metadata": {
        "id": "IZ3KJEeqJwcd"
      },
      "execution_count": null,
      "outputs": []
    },
    {
      "cell_type": "code",
      "source": [
        "i=6\n",
        "text=l4[i]\n",
        "init_image = load_image(\"/content/product4.jpg\").resize((512, 512))\n",
        "mask_image = load_image(\"/content/product4_mask.jpg\").resize((512, 512))\n",
        "\n",
        "generator = torch.Generator(\"cuda\").manual_seed(92)\n",
        "prompt = text\n",
        "negative_prompt=\"bad architecture, deformed, disfigured, poor details, low lightning, low resolution,low details, low shadows, low reflection\"\n",
        "image = pipeline(prompt=prompt,negative_prompt=negative_prompt, image=init_image, mask_image=mask_image,strength=1,high_noise_frac=0.9,guidance_scale=15,num_inference_steps=100,generator=generator).images[0]\n",
        "# make_image_grid([init_image, mask_image, image], rows=1, cols=3)\n",
        "display(image)\n",
        "image.save(f\"product4_{i}.png\")"
      ],
      "metadata": {
        "id": "iXfJQy0DJwuS"
      },
      "execution_count": null,
      "outputs": []
    },
    {
      "cell_type": "code",
      "source": [
        "i=7\n",
        "text=l4[i]\n",
        "init_image = load_image(\"/content/product4.jpg\").resize((512, 512))\n",
        "mask_image = load_image(\"/content/product4_mask.jpg\").resize((512, 512))\n",
        "\n",
        "generator = torch.Generator(\"cuda\").manual_seed(92)\n",
        "prompt = text\n",
        "negative_prompt=\"bad architecture, deformed, disfigured, poor details, low lightning, low resolution,low details, low shadows, low reflection\"\n",
        "image = pipeline(prompt=prompt,negative_prompt=negative_prompt, image=init_image, mask_image=mask_image,strength=1,high_noise_frac=0.9,guidance_scale=15,num_inference_steps=100,generator=generator).images[0]\n",
        "# make_image_grid([init_image, mask_image, image], rows=1, cols=3)\n",
        "display(image)\n",
        "image.save(f\"product4_{i}.png\")"
      ],
      "metadata": {
        "id": "EvDYu5tQJqye"
      },
      "execution_count": null,
      "outputs": []
    },
    {
      "cell_type": "code",
      "source": [
        "i=8\n",
        "text=l4[i]\n",
        "init_image = load_image(\"/content/product4.jpg\").resize((512, 512))\n",
        "mask_image = load_image(\"/content/product4_mask.jpg\").resize((512, 512))\n",
        "\n",
        "generator = torch.Generator(\"cuda\").manual_seed(92)\n",
        "prompt = text\n",
        "negative_prompt=\"bad architecture, deformed, disfigured, poor details, low lightning, low resolution,low details, low shadows, low reflection\"\n",
        "image = pipeline(prompt=prompt,negative_prompt=negative_prompt, image=init_image, mask_image=mask_image,strength=1,high_noise_frac=0.9,guidance_scale=15,num_inference_steps=100,generator=generator).images[0]\n",
        "# make_image_grid([init_image, mask_image, image], rows=1, cols=3)\n",
        "display(image)\n",
        "image.save(f\"product4_{i}.png\")"
      ],
      "metadata": {
        "id": "g9OoWiZxJq6o"
      },
      "execution_count": null,
      "outputs": []
    },
    {
      "cell_type": "code",
      "source": [
        "i=9\n",
        "text=l4[i]\n",
        "init_image = load_image(\"/content/product4.jpg\").resize((512, 512))\n",
        "mask_image = load_image(\"/content/product4_mask.jpg\").resize((512, 512))\n",
        "\n",
        "generator = torch.Generator(\"cuda\").manual_seed(92)\n",
        "prompt = text\n",
        "negative_prompt=\"bad architecture, deformed, disfigured, poor details, low lightning, low resolution,low details, low shadows, low reflection\"\n",
        "image = pipeline(prompt=prompt,negative_prompt=negative_prompt, image=init_image, mask_image=mask_image,strength=1,high_noise_frac=0.9,guidance_scale=15,num_inference_steps=100,generator=generator).images[0]\n",
        "# make_image_grid([init_image, mask_image, image], rows=1, cols=3)\n",
        "display(image)\n",
        "image.save(f\"product4_{i}.png\")"
      ],
      "metadata": {
        "id": "m4SK4dHfJrI8"
      },
      "execution_count": null,
      "outputs": []
    },
    {
      "cell_type": "code",
      "source": [
        "from PIL import Image\n",
        "\n",
        "def crop_center_square(image):\n",
        "    width, height = image.size\n",
        "    min_dimension = min(width, height)\n",
        "    left = (width - min_dimension) // 2\n",
        "    top = (height - min_dimension) // 2\n",
        "    right = (width + min_dimension) // 2\n",
        "    bottom = (height + min_dimension) // 2\n",
        "    cropped_image = image.crop((left, top, right, bottom))\n",
        "    return cropped_image\n",
        "\n",
        "crop_center_square(Image.open(\"/content/product5_mask.jpg\").resize((2250,1500))).save('/content/product51_mask.jpg')\n",
        "crop_center_square(Image.open(\"/content/product5.jpg\")).save('/content/product51.jpg')"
      ],
      "metadata": {
        "id": "bUh3VN6vp-OT"
      },
      "execution_count": null,
      "outputs": []
    },
    {
      "cell_type": "code",
      "source": [
        "l5=[\"Create a studio-style advertisement showcasing a compact camera against a minimalist backdrop, adorned with subtle green leaves to add a refreshing touch to the sleek design.\",\n",
        "\"Generate an elegant promotional image featuring a compact camera placed on a pedestal in a studio setting, with carefully arranged foliage to enhance the camera's appeal and natural aesthetics.\",\n",
        "\"Craft a sophisticated studio advertisement with a compact camera as the focal point, surrounded by strategically placed greenery to evoke a sense of nature and enhance the camera's visual allure.\",\n",
        "\"Create a sophisticated ambiance with a compact camera displayed on a polished marble countertop, reflecting luxury and precision in soft, diffused light.\",\n",
        "\"Produce an image of a compact camera placed on a moss-covered rock, harmonizing nature and technology with dappled sunlight and natural reflections.\",\n",
        "\"Craft a winter-inspired setting featuring a compact camera on fresh snow, emphasizing its compactness against the pristine white landscape and delicate reflections.\",\n",
        "\"Generate an opulent scene with a compact camera resting on a plush velvet pillow, showcasing its elegance and design under warm, luxurious lighting.\",\n",
        "\"Create an urban aesthetic by placing a compact camera on a glass table, capturing city lights and contemporary style with controlled studio lighting.\",\n",
        "\"Create a captivating tabletop scene featuring a compact camera elegantly placed on a reflective glass surface, illuminated by soft studio lighting that enhances the camera's sleek design and captures realistic reflections for a polished and professional look\",\n",
        "\"Generate an artistic composition showcasing a compact camera positioned on a textured wooden tabletop, bathed in warm ambient light that highlights the camera's details and creates natural reflections, evoking a cozy and inviting atmosphere perfect for showcasing the camera's versatility and style.\"]"
      ],
      "metadata": {
        "id": "mXKl39RmYSiV"
      },
      "execution_count": null,
      "outputs": []
    },
    {
      "cell_type": "code",
      "source": [
        "i=0\n",
        "text=l5[i]\n",
        "init_image = load_image(\"/content/product5.jpg\").resize((512, 512))\n",
        "mask_image = load_image(\"/content/product5_mask.jpg\").resize((512, 512))\n",
        "\n",
        "generator = torch.Generator(\"cuda\").manual_seed(90)\n",
        "prompt = text\n",
        "negative_prompt=\"bad architecture, deformed, disfigured, poor details, low lightning, low resolution,low details, low shadows, improper reflection\"\n",
        "image = pipeline(prompt=prompt,negative_prompt=negative_prompt, image=init_image, mask_image=mask_image,strength=1,high_noise_frac=0.9,guidance_scale=15,num_inference_steps=100,generator=generator).images[0]\n",
        "# make_image_grid([init_image, mask_image, image], rows=1, cols=3)\n",
        "display(image)\n",
        "image.save(f\"product5_{i}.png\")"
      ],
      "metadata": {
        "id": "NUAmD2dTYlr7"
      },
      "execution_count": null,
      "outputs": []
    },
    {
      "cell_type": "code",
      "source": [
        "i=1\n",
        "text=l5[i]\n",
        "init_image = load_image(\"/content/product5.jpg\").resize((512, 512))\n",
        "mask_image = load_image(\"/content/product5_mask.jpg\").resize((512, 512))\n",
        "\n",
        "generator = torch.Generator(\"cuda\").manual_seed(92)\n",
        "prompt = text\n",
        "negative_prompt=\"bad architecture, deformed, disfigured, poor details, low lightning, low resolution,low details, low shadows, low reflection\"\n",
        "image = pipeline(prompt=prompt,negative_prompt=negative_prompt, image=init_image, mask_image=mask_image,strength=1,high_noise_frac=0.9,guidance_scale=15,num_inference_steps=100,generator=generator).images[0]\n",
        "# make_image_grid([init_image, mask_image, image], rows=1, cols=3)\n",
        "display(image)\n",
        "image.save(f\"product5_{i}.png\")"
      ],
      "metadata": {
        "id": "niHxRr-nYqjJ"
      },
      "execution_count": null,
      "outputs": []
    },
    {
      "cell_type": "code",
      "source": [
        "i=2\n",
        "text=l5[i]\n",
        "init_image = load_image(\"/content/product5.jpg\").resize((512, 512))\n",
        "mask_image = load_image(\"/content/product5_mask.jpg\").resize((512, 512))\n",
        "\n",
        "generator = torch.Generator(\"cuda\").manual_seed(92)\n",
        "prompt = text\n",
        "negative_prompt=\"bad architecture, deformed, disfigured, poor details, low lightning, low resolution,low details, low shadows, low reflection\"\n",
        "image = pipeline(prompt=prompt,negative_prompt=negative_prompt, image=init_image, mask_image=mask_image,strength=1,high_noise_frac=0.9,guidance_scale=15,num_inference_steps=100,generator=generator).images[0]\n",
        "# make_image_grid([init_image, mask_image, image], rows=1, cols=3)\n",
        "display(image)\n",
        "image.save(f\"product5_{i}.png\")"
      ],
      "metadata": {
        "id": "Wk-eaVhnYq6p"
      },
      "execution_count": null,
      "outputs": []
    },
    {
      "cell_type": "code",
      "source": [
        "i=3\n",
        "text=l5[i]\n",
        "init_image = load_image(\"/content/product5.jpg\").resize((512, 512))\n",
        "mask_image = load_image(\"/content/product5_mask.jpg\").resize((512, 512))\n",
        "\n",
        "generator = torch.Generator(\"cuda\").manual_seed(92)\n",
        "prompt = text\n",
        "negative_prompt=\"bad architecture, deformed, disfigured, poor details, low lightning, low resolution,low details, low shadows, low reflection\"\n",
        "image = pipeline(prompt=prompt,negative_prompt=negative_prompt, image=init_image, mask_image=mask_image,strength=1,high_noise_frac=0.9,guidance_scale=15,num_inference_steps=100,generator=generator).images[0]\n",
        "# make_image_grid([init_image, mask_image, image], rows=1, cols=3)\n",
        "display(image)\n",
        "image.save(f\"product5_{i}.png\")"
      ],
      "metadata": {
        "id": "R4-7wrnDYrHX"
      },
      "execution_count": null,
      "outputs": []
    },
    {
      "cell_type": "code",
      "source": [
        "i=4\n",
        "text=l5[i]\n",
        "init_image = load_image(\"/content/product5.jpg\").resize((512, 512))\n",
        "mask_image = load_image(\"/content/product5_mask.jpg\").resize((512, 512))\n",
        "\n",
        "generator = torch.Generator(\"cuda\").manual_seed(92)\n",
        "prompt = text\n",
        "negative_prompt=\"bad architecture, deformed, disfigured, poor details, low lightning, low resolution,low details, low shadows, low reflection\"\n",
        "image = pipeline(prompt=prompt,negative_prompt=negative_prompt, image=init_image, mask_image=mask_image,strength=1,high_noise_frac=0.9,guidance_scale=15,num_inference_steps=100,generator=generator).images[0]\n",
        "# make_image_grid([init_image, mask_image, image], rows=1, cols=3)\n",
        "display(image)\n",
        "image.save(f\"product5_{i}.png\")"
      ],
      "metadata": {
        "id": "o8uFlf1xYrST"
      },
      "execution_count": null,
      "outputs": []
    },
    {
      "cell_type": "code",
      "source": [
        "i=5\n",
        "text=l5[i]\n",
        "init_image = load_image(\"/content/product5.jpg\").resize((512, 512))\n",
        "mask_image = load_image(\"/content/product5_mask.jpg\").resize((512, 512))\n",
        "\n",
        "generator = torch.Generator(\"cuda\").manual_seed(92)\n",
        "prompt = text\n",
        "negative_prompt=\"bad architecture, deformed, disfigured, poor details, low lightning, low resolution,low details, low shadows, low reflection\"\n",
        "image = pipeline(prompt=prompt,negative_prompt=negative_prompt, image=init_image, mask_image=mask_image,strength=1,high_noise_frac=0.9,guidance_scale=15,num_inference_steps=100,generator=generator).images[0]\n",
        "# make_image_grid([init_image, mask_image, image], rows=1, cols=3)\n",
        "display(image)\n",
        "image.save(f\"product5_{i}.png\")"
      ],
      "metadata": {
        "id": "bNDqRQjVYrk-"
      },
      "execution_count": null,
      "outputs": []
    },
    {
      "cell_type": "code",
      "source": [
        "i=6\n",
        "text=l5[i]\n",
        "init_image = load_image(\"/content/product5.jpg\").resize((512, 512))\n",
        "mask_image = load_image(\"/content/product5_mask.jpg\").resize((512, 512))\n",
        "\n",
        "generator = torch.Generator(\"cuda\").manual_seed(92)\n",
        "prompt = text\n",
        "negative_prompt=\"bad architecture, deformed, disfigured, poor details, low lightning, low resolution,low details, low shadows, low reflection\"\n",
        "image = pipeline(prompt=prompt,negative_prompt=negative_prompt, image=init_image, mask_image=mask_image,strength=1,high_noise_frac=0.9,guidance_scale=15,num_inference_steps=100,generator=generator).images[0]\n",
        "# make_image_grid([init_image, mask_image, image], rows=1, cols=3)\n",
        "display(image)\n",
        "image.save(f\"product5_{i}.png\")"
      ],
      "metadata": {
        "id": "nPai0QarYrt1"
      },
      "execution_count": null,
      "outputs": []
    },
    {
      "cell_type": "code",
      "source": [
        "i=7\n",
        "text=l5[i]\n",
        "init_image = load_image(\"/content/product5.jpg\").resize((512, 512))\n",
        "mask_image = load_image(\"/content/product5_mask.jpg\").resize((512, 512))\n",
        "\n",
        "generator = torch.Generator(\"cuda\").manual_seed(92)\n",
        "prompt = text\n",
        "negative_prompt=\"bad architecture, deformed, disfigured, poor details, low lightning, low resolution,low details, low shadows, low reflection\"\n",
        "image = pipeline(prompt=prompt,negative_prompt=negative_prompt, image=init_image, mask_image=mask_image,strength=1,high_noise_frac=0.9,guidance_scale=15,num_inference_steps=100,generator=generator).images[0]\n",
        "# make_image_grid([init_image, mask_image, image], rows=1, cols=3)\n",
        "display(image)\n",
        "image.save(f\"product5_{i}.png\")"
      ],
      "metadata": {
        "id": "txNBX8NHYtat"
      },
      "execution_count": null,
      "outputs": []
    },
    {
      "cell_type": "code",
      "source": [
        "i=8\n",
        "text=l5[i]\n",
        "init_image = load_image(\"/content/product5.jpg\").resize((512, 512))\n",
        "mask_image = load_image(\"/content/product5_mask.jpg\").resize((512, 512))\n",
        "\n",
        "generator = torch.Generator(\"cuda\").manual_seed(92)\n",
        "prompt = text\n",
        "negative_prompt=\"bad architecture, deformed, disfigured, poor details, low lightning, low resolution,low details, low shadows, low reflection\"\n",
        "image = pipeline(prompt=prompt,negative_prompt=negative_prompt, image=init_image, mask_image=mask_image,strength=1,high_noise_frac=0.9,guidance_scale=15,num_inference_steps=100,generator=generator).images[0]\n",
        "# make_image_grid([init_image, mask_image, image], rows=1, cols=3)\n",
        "display(image)\n",
        "image.save(f\"product5_{i}.png\")"
      ],
      "metadata": {
        "id": "7phVrdTSYtqW"
      },
      "execution_count": null,
      "outputs": []
    },
    {
      "cell_type": "code",
      "source": [
        "i=9\n",
        "text=l5[i]\n",
        "init_image = load_image(\"/content/product5.jpg\").resize((512, 512))\n",
        "mask_image = load_image(\"/content/product5_mask.jpg\").resize((512, 512))\n",
        "\n",
        "generator = torch.Generator(\"cuda\").manual_seed(92)\n",
        "prompt = text\n",
        "negative_prompt=\"bad architecture, deformed, disfigured, poor details, low lightning, low resolution,low details, low shadows, low reflection\"\n",
        "image = pipeline(prompt=prompt,negative_prompt=negative_prompt, image=init_image, mask_image=mask_image,strength=1,high_noise_frac=0.9,guidance_scale=15,num_inference_steps=100,generator=generator).images[0]\n",
        "# make_image_grid([init_image, mask_image, image], rows=1, cols=3)\n",
        "display(image)\n",
        "image.save(f\"product5_{i}.png\")"
      ],
      "metadata": {
        "id": "qZDDHuTNYt5t"
      },
      "execution_count": null,
      "outputs": []
    }
  ],
  "metadata": {
    "colab": {
      "provenance": [],
      "gpuType": "T4"
    },
    "kernelspec": {
      "display_name": "Python 3",
      "name": "python3"
    },
    "accelerator": "GPU"
  },
  "nbformat": 4,
  "nbformat_minor": 0
}